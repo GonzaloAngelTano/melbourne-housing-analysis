{
 "cells": [
  {
   "cell_type": "markdown",
   "id": "de2d3fd9",
   "metadata": {},
   "source": [
    "# 🏠 Melbourne Housing Market Analysis\n",
    "Analysis and regression modeling using real estate data from Melbourne, Australia."
   ]
  },
  {
   "cell_type": "code",
   "execution_count": null,
   "id": "a0f2b2f6",
   "metadata": {},
   "outputs": [],
   "source": [
    "import pandas as pd\n",
    "import matplotlib.pyplot as plt\n",
    "import seaborn as sns\n",
    "from sklearn.linear_model import LinearRegression\n",
    "from sklearn.model_selection import train_test_split\n",
    "from sklearn.metrics import mean_squared_error\n",
    "\n",
    "# Load dataset\n",
    "df = pd.read_csv(\"melb_data.csv\")\n",
    "df.head()"
   ]
  },
  {
   "cell_type": "markdown",
   "id": "0a134dbd",
   "metadata": {},
   "source": [
    "## 🧹 Data Cleaning"
   ]
  },
  {
   "cell_type": "code",
   "execution_count": null,
   "id": "3e380064",
   "metadata": {},
   "outputs": [],
   "source": [
    "# Drop columns with many missing values\n",
    "df = df.drop(columns=[\"BuildingArea\", \"YearBuilt\", \"CouncilArea\", \"Car\", \"Propertycount\", \"Postcode\"])\n",
    "\n",
    "# Drop rows with missing values\n",
    "df = df.dropna()\n",
    "\n",
    "# Convert 'Date' to datetime\n",
    "df['Date'] = pd.to_datetime(df['Date'], dayfirst=True)\n",
    "\n",
    "df.info()"
   ]
  },
  {
   "cell_type": "markdown",
   "id": "16a084d3",
   "metadata": {},
   "source": [
    "## 📊 Exploratory Analysis"
   ]
  },
  {
   "cell_type": "code",
   "execution_count": null,
   "id": "56f5a5d9",
   "metadata": {},
   "outputs": [],
   "source": [
    "# Average price by suburb\n",
    "df.groupby(\"Suburb\")[\"Price\"].mean().sort_values(ascending=False).head(10)"
   ]
  },
  {
   "cell_type": "code",
   "execution_count": null,
   "id": "92d67c22",
   "metadata": {},
   "outputs": [],
   "source": [
    "# Distribution of house types\n",
    "sns.countplot(data=df, x=\"Type\")\n",
    "plt.title(\"Distribution of Property Types\")\n",
    "plt.show()"
   ]
  },
  {
   "cell_type": "code",
   "execution_count": null,
   "id": "07520879",
   "metadata": {},
   "outputs": [],
   "source": [
    "# Price vs. Rooms\n",
    "sns.boxplot(data=df, x=\"Rooms\", y=\"Price\")\n",
    "plt.title(\"Price by Number of Rooms\")\n",
    "plt.show()"
   ]
  },
  {
   "cell_type": "markdown",
   "id": "fbf8cdc4",
   "metadata": {},
   "source": [
    "## 🤖 Simple Price Prediction Model"
   ]
  },
  {
   "cell_type": "code",
   "execution_count": null,
   "id": "4def43cc",
   "metadata": {},
   "outputs": [],
   "source": [
    "# Use only numeric features\n",
    "X = df[[\"Rooms\", \"Distance\", \"Landsize\", \"Bathroom\"]]\n",
    "y = df[\"Price\"]\n",
    "\n",
    "# Split and train\n",
    "X_train, X_test, y_train, y_test = train_test_split(X, y, random_state=0)\n",
    "model = LinearRegression()\n",
    "model.fit(X_train, y_train)\n",
    "\n",
    "# Predict and evaluate\n",
    "preds = model.predict(X_test)\n",
    "mse = mean_squared_error(y_test, preds)\n",
    "print(f\"Mean Squared Error: {mse:.2f}\")"
   ]
  },
  {
   "cell_type": "markdown",
   "id": "3e299495",
   "metadata": {},
   "source": [
    "### 📈 Additional Evaluation"
   ]
  },
  {
   "cell_type": "code",
   "execution_count": null,
   "id": "8a6e01fc",
   "metadata": {},
   "outputs": [],
   "source": [
    "# R² score (coefficient of determination)\n",
    "r2 = model.score(X_test, y_test)\n",
    "print(f\"R^2 Score: {r2:.2f}\")"
   ]
  },
  {
   "cell_type": "code",
   "execution_count": null,
   "id": "50a91295",
   "metadata": {},
   "outputs": [],
   "source": [
    "# Scatter plot of actual vs predicted\n",
    "plt.figure(figsize=(6,6))\n",
    "plt.scatter(y_test, preds, alpha=0.5)\n",
    "plt.xlabel(\"Actual Price\")\n",
    "plt.ylabel(\"Predicted Price\")\n",
    "plt.title(\"Actual vs Predicted Housing Prices\")\n",
    "plt.plot([y_test.min(), y_test.max()], [y_test.min(), y_test.max()], 'r--')\n",
    "plt.tight_layout()\n",
    "plt.show()"
   ]
  },
  {
   "cell_type": "code",
   "execution_count": null,
   "id": "ddc115b6",
   "metadata": {},
   "outputs": [],
   "source": [
    "# Coefficients of the model\n",
    "coef_df = pd.DataFrame(model.coef_, index=X.columns, columns=[\"Coefficient\"])\n",
    "coef_df"
   ]
  }
 ],
 "metadata": {},
 "nbformat": 4,
 "nbformat_minor": 5
}
