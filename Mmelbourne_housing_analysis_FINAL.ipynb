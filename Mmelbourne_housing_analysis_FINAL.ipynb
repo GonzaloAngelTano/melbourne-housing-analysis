{
 "cells": [
  {
   "cell_type": "markdown",
   "id": "de2d3fd9",
   "metadata": {},
   "source": [
    "# 🏠 Melbourne Housing Market Analysis\n",
    "Analysis and regression modeling using real estate data from Melbourne, Australia."
   ]
  },
  {
   "cell_type": "code",
   "id": "a0f2b2f6",
   "metadata": {
    "ExecuteTime": {
     "end_time": "2025-06-15T16:10:11.207403Z",
     "start_time": "2025-06-15T16:10:10.965702Z"
    }
   },
   "source": [
    "import pandas as pd\n",
    "import matplotlib.pyplot as plt\n",
    "import seaborn as sns\n",
    "from sklearn.linear_model import LinearRegression\n",
    "from sklearn.model_selection import train_test_split\n",
    "from sklearn.metrics import mean_squared_error\n",
    "\n",
    "# Load dataset\n",
    "df = pd.read_csv(\"melb_data.csv\")\n",
    "df.head()"
   ],
   "outputs": [
    {
     "data": {
      "text/plain": [
       "       Suburb           Address  Rooms Type      Price Method SellerG  \\\n",
       "0  Abbotsford      85 Turner St      2    h  1480000.0      S  Biggin   \n",
       "1  Abbotsford   25 Bloomburg St      2    h  1035000.0      S  Biggin   \n",
       "2  Abbotsford      5 Charles St      3    h  1465000.0     SP  Biggin   \n",
       "3  Abbotsford  40 Federation La      3    h   850000.0     PI  Biggin   \n",
       "4  Abbotsford       55a Park St      4    h  1600000.0     VB  Nelson   \n",
       "\n",
       "        Date  Distance  Postcode  ...  Bathroom  Car  Landsize  BuildingArea  \\\n",
       "0  3/12/2016       2.5    3067.0  ...       1.0  1.0     202.0           NaN   \n",
       "1  4/02/2016       2.5    3067.0  ...       1.0  0.0     156.0          79.0   \n",
       "2  4/03/2017       2.5    3067.0  ...       2.0  0.0     134.0         150.0   \n",
       "3  4/03/2017       2.5    3067.0  ...       2.0  1.0      94.0           NaN   \n",
       "4  4/06/2016       2.5    3067.0  ...       1.0  2.0     120.0         142.0   \n",
       "\n",
       "   YearBuilt  CouncilArea Lattitude  Longtitude             Regionname  \\\n",
       "0        NaN        Yarra  -37.7996    144.9984  Northern Metropolitan   \n",
       "1     1900.0        Yarra  -37.8079    144.9934  Northern Metropolitan   \n",
       "2     1900.0        Yarra  -37.8093    144.9944  Northern Metropolitan   \n",
       "3        NaN        Yarra  -37.7969    144.9969  Northern Metropolitan   \n",
       "4     2014.0        Yarra  -37.8072    144.9941  Northern Metropolitan   \n",
       "\n",
       "  Propertycount  \n",
       "0        4019.0  \n",
       "1        4019.0  \n",
       "2        4019.0  \n",
       "3        4019.0  \n",
       "4        4019.0  \n",
       "\n",
       "[5 rows x 21 columns]"
      ],
      "text/html": [
       "<div>\n",
       "<style scoped>\n",
       "    .dataframe tbody tr th:only-of-type {\n",
       "        vertical-align: middle;\n",
       "    }\n",
       "\n",
       "    .dataframe tbody tr th {\n",
       "        vertical-align: top;\n",
       "    }\n",
       "\n",
       "    .dataframe thead th {\n",
       "        text-align: right;\n",
       "    }\n",
       "</style>\n",
       "<table border=\"1\" class=\"dataframe\">\n",
       "  <thead>\n",
       "    <tr style=\"text-align: right;\">\n",
       "      <th></th>\n",
       "      <th>Suburb</th>\n",
       "      <th>Address</th>\n",
       "      <th>Rooms</th>\n",
       "      <th>Type</th>\n",
       "      <th>Price</th>\n",
       "      <th>Method</th>\n",
       "      <th>SellerG</th>\n",
       "      <th>Date</th>\n",
       "      <th>Distance</th>\n",
       "      <th>Postcode</th>\n",
       "      <th>...</th>\n",
       "      <th>Bathroom</th>\n",
       "      <th>Car</th>\n",
       "      <th>Landsize</th>\n",
       "      <th>BuildingArea</th>\n",
       "      <th>YearBuilt</th>\n",
       "      <th>CouncilArea</th>\n",
       "      <th>Lattitude</th>\n",
       "      <th>Longtitude</th>\n",
       "      <th>Regionname</th>\n",
       "      <th>Propertycount</th>\n",
       "    </tr>\n",
       "  </thead>\n",
       "  <tbody>\n",
       "    <tr>\n",
       "      <th>0</th>\n",
       "      <td>Abbotsford</td>\n",
       "      <td>85 Turner St</td>\n",
       "      <td>2</td>\n",
       "      <td>h</td>\n",
       "      <td>1480000.0</td>\n",
       "      <td>S</td>\n",
       "      <td>Biggin</td>\n",
       "      <td>3/12/2016</td>\n",
       "      <td>2.5</td>\n",
       "      <td>3067.0</td>\n",
       "      <td>...</td>\n",
       "      <td>1.0</td>\n",
       "      <td>1.0</td>\n",
       "      <td>202.0</td>\n",
       "      <td>NaN</td>\n",
       "      <td>NaN</td>\n",
       "      <td>Yarra</td>\n",
       "      <td>-37.7996</td>\n",
       "      <td>144.9984</td>\n",
       "      <td>Northern Metropolitan</td>\n",
       "      <td>4019.0</td>\n",
       "    </tr>\n",
       "    <tr>\n",
       "      <th>1</th>\n",
       "      <td>Abbotsford</td>\n",
       "      <td>25 Bloomburg St</td>\n",
       "      <td>2</td>\n",
       "      <td>h</td>\n",
       "      <td>1035000.0</td>\n",
       "      <td>S</td>\n",
       "      <td>Biggin</td>\n",
       "      <td>4/02/2016</td>\n",
       "      <td>2.5</td>\n",
       "      <td>3067.0</td>\n",
       "      <td>...</td>\n",
       "      <td>1.0</td>\n",
       "      <td>0.0</td>\n",
       "      <td>156.0</td>\n",
       "      <td>79.0</td>\n",
       "      <td>1900.0</td>\n",
       "      <td>Yarra</td>\n",
       "      <td>-37.8079</td>\n",
       "      <td>144.9934</td>\n",
       "      <td>Northern Metropolitan</td>\n",
       "      <td>4019.0</td>\n",
       "    </tr>\n",
       "    <tr>\n",
       "      <th>2</th>\n",
       "      <td>Abbotsford</td>\n",
       "      <td>5 Charles St</td>\n",
       "      <td>3</td>\n",
       "      <td>h</td>\n",
       "      <td>1465000.0</td>\n",
       "      <td>SP</td>\n",
       "      <td>Biggin</td>\n",
       "      <td>4/03/2017</td>\n",
       "      <td>2.5</td>\n",
       "      <td>3067.0</td>\n",
       "      <td>...</td>\n",
       "      <td>2.0</td>\n",
       "      <td>0.0</td>\n",
       "      <td>134.0</td>\n",
       "      <td>150.0</td>\n",
       "      <td>1900.0</td>\n",
       "      <td>Yarra</td>\n",
       "      <td>-37.8093</td>\n",
       "      <td>144.9944</td>\n",
       "      <td>Northern Metropolitan</td>\n",
       "      <td>4019.0</td>\n",
       "    </tr>\n",
       "    <tr>\n",
       "      <th>3</th>\n",
       "      <td>Abbotsford</td>\n",
       "      <td>40 Federation La</td>\n",
       "      <td>3</td>\n",
       "      <td>h</td>\n",
       "      <td>850000.0</td>\n",
       "      <td>PI</td>\n",
       "      <td>Biggin</td>\n",
       "      <td>4/03/2017</td>\n",
       "      <td>2.5</td>\n",
       "      <td>3067.0</td>\n",
       "      <td>...</td>\n",
       "      <td>2.0</td>\n",
       "      <td>1.0</td>\n",
       "      <td>94.0</td>\n",
       "      <td>NaN</td>\n",
       "      <td>NaN</td>\n",
       "      <td>Yarra</td>\n",
       "      <td>-37.7969</td>\n",
       "      <td>144.9969</td>\n",
       "      <td>Northern Metropolitan</td>\n",
       "      <td>4019.0</td>\n",
       "    </tr>\n",
       "    <tr>\n",
       "      <th>4</th>\n",
       "      <td>Abbotsford</td>\n",
       "      <td>55a Park St</td>\n",
       "      <td>4</td>\n",
       "      <td>h</td>\n",
       "      <td>1600000.0</td>\n",
       "      <td>VB</td>\n",
       "      <td>Nelson</td>\n",
       "      <td>4/06/2016</td>\n",
       "      <td>2.5</td>\n",
       "      <td>3067.0</td>\n",
       "      <td>...</td>\n",
       "      <td>1.0</td>\n",
       "      <td>2.0</td>\n",
       "      <td>120.0</td>\n",
       "      <td>142.0</td>\n",
       "      <td>2014.0</td>\n",
       "      <td>Yarra</td>\n",
       "      <td>-37.8072</td>\n",
       "      <td>144.9941</td>\n",
       "      <td>Northern Metropolitan</td>\n",
       "      <td>4019.0</td>\n",
       "    </tr>\n",
       "  </tbody>\n",
       "</table>\n",
       "<p>5 rows × 21 columns</p>\n",
       "</div>"
      ]
     },
     "execution_count": 2,
     "metadata": {},
     "output_type": "execute_result"
    }
   ],
   "execution_count": 2
  },
  {
   "cell_type": "markdown",
   "id": "0a134dbd",
   "metadata": {},
   "source": [
    "## 🧹 Data Cleaning"
   ]
  },
  {
   "cell_type": "code",
   "id": "3e380064",
   "metadata": {
    "ExecuteTime": {
     "end_time": "2025-06-15T16:10:15.476147Z",
     "start_time": "2025-06-15T16:10:15.359141Z"
    }
   },
   "source": [
    "# Drop columns with many missing values\n",
    "df = df.drop(columns=[\"BuildingArea\", \"YearBuilt\", \"CouncilArea\", \"Car\", \"Propertycount\", \"Postcode\"])\n",
    "\n",
    "# Drop rows with missing values\n",
    "df = df.dropna()\n",
    "\n",
    "# Convert 'Date' to datetime\n",
    "df['Date'] = pd.to_datetime(df['Date'], dayfirst=True)\n",
    "\n",
    "df.info()"
   ],
   "outputs": [
    {
     "name": "stdout",
     "output_type": "stream",
     "text": [
      "<class 'pandas.core.frame.DataFrame'>\n",
      "RangeIndex: 13580 entries, 0 to 13579\n",
      "Data columns (total 15 columns):\n",
      " #   Column      Non-Null Count  Dtype         \n",
      "---  ------      --------------  -----         \n",
      " 0   Suburb      13580 non-null  object        \n",
      " 1   Address     13580 non-null  object        \n",
      " 2   Rooms       13580 non-null  int64         \n",
      " 3   Type        13580 non-null  object        \n",
      " 4   Price       13580 non-null  float64       \n",
      " 5   Method      13580 non-null  object        \n",
      " 6   SellerG     13580 non-null  object        \n",
      " 7   Date        13580 non-null  datetime64[ns]\n",
      " 8   Distance    13580 non-null  float64       \n",
      " 9   Bedroom2    13580 non-null  float64       \n",
      " 10  Bathroom    13580 non-null  float64       \n",
      " 11  Landsize    13580 non-null  float64       \n",
      " 12  Lattitude   13580 non-null  float64       \n",
      " 13  Longtitude  13580 non-null  float64       \n",
      " 14  Regionname  13580 non-null  object        \n",
      "dtypes: datetime64[ns](1), float64(7), int64(1), object(6)\n",
      "memory usage: 1.6+ MB\n"
     ]
    }
   ],
   "execution_count": 3
  },
  {
   "cell_type": "markdown",
   "id": "16a084d3",
   "metadata": {},
   "source": [
    "## 📊 Exploratory Analysis"
   ]
  },
  {
   "cell_type": "code",
   "id": "56f5a5d9",
   "metadata": {
    "ExecuteTime": {
     "end_time": "2025-06-15T16:10:23.886106Z",
     "start_time": "2025-06-15T16:10:23.860114Z"
    }
   },
   "source": [
    "# Average price by suburb\n",
    "df.groupby(\"Suburb\")[\"Price\"].mean().sort_values(ascending=False).head(10)"
   ],
   "outputs": [
    {
     "data": {
      "text/plain": [
       "Suburb\n",
       "Kooyong         2.185000e+06\n",
       "Canterbury      2.180241e+06\n",
       "Middle Park     2.082529e+06\n",
       "Albert Park     1.941355e+06\n",
       "Brighton        1.930158e+06\n",
       "Balwyn          1.869879e+06\n",
       "Eaglemont       1.831696e+06\n",
       "Balwyn North    1.793405e+06\n",
       "Malvern         1.764993e+06\n",
       "Kew             1.758435e+06\n",
       "Name: Price, dtype: float64"
      ]
     },
     "execution_count": 4,
     "metadata": {},
     "output_type": "execute_result"
    }
   ],
   "execution_count": 4
  },
  {
   "cell_type": "code",
   "id": "92d67c22",
   "metadata": {
    "ExecuteTime": {
     "end_time": "2025-06-15T16:10:34.649653Z",
     "start_time": "2025-06-15T16:10:34.117937Z"
    }
   },
   "source": [
    "# Distribution of house types\n",
    "sns.countplot(data=df, x=\"Type\")\n",
    "plt.title(\"Distribution of Property Types\")\n",
    "plt.show()"
   ],
   "outputs": [
    {
     "data": {
      "text/plain": [
       "<Figure size 432x288 with 1 Axes>"
      ],
      "image/png": "[encoded data removed]"
     },
     "metadata": {},
     "output_type": "display_data"
    }
   ],
   "execution_count": 5
  },
  {
   "cell_type": "code",
   "id": "07520879",
   "metadata": {
    "ExecuteTime": {
     "end_time": "2025-06-15T16:10:37.977505Z",
     "start_time": "2025-06-15T16:10:37.518514Z"
    }
   },
   "source": [
    "# Price vs. Rooms\n",
    "sns.boxplot(data=df, x=\"Rooms\", y=\"Price\")\n",
    "plt.title(\"Price by Number of Rooms\")\n",
    "plt.show()"
   ],
   "outputs": [
    {
     "data": {
      "text/plain": [
       "<Figure size 432x288 with 1 Axes>"
      ],
      "image/png": "[encoded data removed]"
     },
     "metadata": {},
     "output_type": "display_data"
    }
   ],
   "execution_count": 6
  },
  {
   "cell_type": "markdown",
   "id": "fbf8cdc4",
   "metadata": {},
   "source": [
    "## 🤖 Simple Price Prediction Model"
   ]
  },
  {
   "cell_type": "code",
   "id": "4def43cc",
   "metadata": {
    "ExecuteTime": {
     "end_time": "2025-06-15T16:10:41.015318Z",
     "start_time": "2025-06-15T16:10:40.600885Z"
    }
   },
   "source": [
    "# Use only numeric features\n",
    "X = df[[\"Rooms\", \"Distance\", \"Landsize\", \"Bathroom\"]]\n",
    "y = df[\"Price\"]\n",
    "\n",
    "# Split and train\n",
    "X_train, X_test, y_train, y_test = train_test_split(X, y, random_state=0)\n",
    "model = LinearRegression()\n",
    "model.fit(X_train, y_train)\n",
    "\n",
    "# Predict and evaluate\n",
    "preds = model.predict(X_test)\n",
    "mse = mean_squared_error(y_test, preds)\n",
    "print(f\"Mean Squared Error: {mse:.2f}\")"
   ],
   "outputs": [
    {
     "name": "stdout",
     "output_type": "stream",
     "text": [
      "Mean Squared Error: 264505784370.28\n"
     ]
    }
   ],
   "execution_count": 7
  },
  {
   "cell_type": "markdown",
   "id": "3e299495",
   "metadata": {},
   "source": [
    "### 📈 Additional Evaluation"
   ]
  },
  {
   "cell_type": "code",
   "id": "8a6e01fc",
   "metadata": {
    "ExecuteTime": {
     "end_time": "2025-06-15T16:11:07.199506Z",
     "start_time": "2025-06-15T16:11:07.174509Z"
    }
   },
   "source": [
    "# R² score (coefficient of determination)\n",
    "r2 = model.score(X_test, y_test)\n",
    "print(f\"R^2 Score: {r2:.2f}\")"
   ],
   "outputs": [
    {
     "name": "stdout",
     "output_type": "stream",
     "text": [
      "R^2 Score: 0.38\n"
     ]
    }
   ],
   "execution_count": 8
  },
  {
   "cell_type": "code",
   "id": "50a91295",
   "metadata": {
    "ExecuteTime": {
     "end_time": "2025-06-15T16:11:11.874506Z",
     "start_time": "2025-06-15T16:11:11.595516Z"
    }
   },
   "source": [
    "# Scatter plot of actual vs predicted\n",
    "plt.figure(figsize=(6,6))\n",
    "plt.scatter(y_test, preds, alpha=0.5)\n",
    "plt.xlabel(\"Actual Price\")\n",
    "plt.ylabel(\"Predicted Price\")\n",
    "plt.title(\"Actual vs Predicted Housing Prices\")\n",
    "plt.plot([y_test.min(), y_test.max()], [y_test.min(), y_test.max()], 'r--')\n",
    "plt.tight_layout()\n",
    "plt.show()"
   ],
   "outputs": [
    {
     "data": {
      "text/plain": [
       "<Figure size 432x432 with 1 Axes>"
      ],
      "image/png": "[encoded data removed]"
     },
     "metadata": {},
     "output_type": "display_data"
    }
   ],
   "execution_count": 9
  },
  {
   "cell_type": "code",
   "id": "ddc115b6",
   "metadata": {
    "ExecuteTime": {
     "end_time": "2025-06-15T16:11:19.866962Z",
     "start_time": "2025-06-15T16:11:19.851966Z"
    }
   },
   "source": [
    "# Coefficients of the model\n",
    "coef_df = pd.DataFrame(model.coef_, index=X.columns, columns=[\"Coefficient\"])\n",
    "coef_df"
   ],
   "outputs": [
    {
     "data": {
      "text/plain": [
       "            Coefficient\n",
       "Rooms     288579.745459\n",
       "Distance  -34822.193120\n",
       "Landsize       3.619873\n",
       "Bathroom  234158.361185"
      ],
      "text/html": [
       "<div>\n",
       "<style scoped>\n",
       "    .dataframe tbody tr th:only-of-type {\n",
       "        vertical-align: middle;\n",
       "    }\n",
       "\n",
       "    .dataframe tbody tr th {\n",
       "        vertical-align: top;\n",
       "    }\n",
       "\n",
       "    .dataframe thead th {\n",
       "        text-align: right;\n",
       "    }\n",
       "</style>\n",
       "<table border=\"1\" class=\"dataframe\">\n",
       "  <thead>\n",
       "    <tr style=\"text-align: right;\">\n",
       "      <th></th>\n",
       "      <th>Coefficient</th>\n",
       "    </tr>\n",
       "  </thead>\n",
       "  <tbody>\n",
       "    <tr>\n",
       "      <th>Rooms</th>\n",
       "      <td>288579.745459</td>\n",
       "    </tr>\n",
       "    <tr>\n",
       "      <th>Distance</th>\n",
       "      <td>-34822.193120</td>\n",
       "    </tr>\n",
       "    <tr>\n",
       "      <th>Landsize</th>\n",
       "      <td>3.619873</td>\n",
       "    </tr>\n",
       "    <tr>\n",
       "      <th>Bathroom</th>\n",
       "      <td>234158.361185</td>\n",
       "    </tr>\n",
       "  </tbody>\n",
       "</table>\n",
       "</div>"
      ]
     },
     "execution_count": 10,
     "metadata": {},
     "output_type": "execute_result"
    }
   ],
   "execution_count": 10
  }
 ],
 "metadata": {},
 "nbformat": 4,
 "nbformat_minor": 5
}
